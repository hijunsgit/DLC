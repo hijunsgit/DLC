{
  "nbformat": 4,
  "nbformat_minor": 0,
  "metadata": {
    "colab": {
      "name": "Untitled0.ipynb",
      "provenance": [],
      "collapsed_sections": [],
      "authorship_tag": "ABX9TyNf8Rbi4PC7GW//wMepdQPT",
      "include_colab_link": true
    },
    "kernelspec": {
      "name": "python3",
      "display_name": "Python 3"
    }
  },
  "cells": [
    {
      "cell_type": "markdown",
      "metadata": {
        "id": "view-in-github",
        "colab_type": "text"
      },
      "source": [
        "<a href=\"https://colab.research.google.com/github/hijunsgit/DLC/blob/master/euleroj_io_1058ff_.ipynb\" target=\"_parent\"><img src=\"https://colab.research.google.com/assets/colab-badge.svg\" alt=\"Open In Colab\"/></a>"
      ]
    },
    {
      "cell_type": "code",
      "metadata": {
        "id": "TbPPd8DaunQi",
        "colab": {
          "base_uri": "https://localhost:8080/",
          "height": 52
        },
        "outputId": "b3a59dff-ec19-4213-9892-9c6d92ba3798"
      },
      "source": [
        "n = input()\n",
        "\n",
        "m=[]\n",
        "inx = 0\n",
        "for i in range(len(n)-1,-1,-1):\n",
        "    if inx == 3:\n",
        "        m.append(\",\")\n",
        "        m.append(n[i])\n",
        "        inx = 1\n",
        "    else:\n",
        "        m.append(n[i])\n",
        "        inx += 1\n",
        "\n",
        "ans=[]\n",
        "for i in range(len(m)-1,-1,-1):\n",
        "    ans.append(m[i])\n",
        "\n",
        "print(\"\".join(ans))"
      ],
      "execution_count": null,
      "outputs": [
        {
          "output_type": "stream",
          "text": [
            "153720529\n",
            "153,720,529\n"
          ],
          "name": "stdout"
        }
      ]
    },
    {
      "cell_type": "code",
      "metadata": {
        "id": "kN4VvLxw-gTQ"
      },
      "source": [
        "from google.colab import drive\n",
        "drive.mount('/content/drive')"
      ],
      "execution_count": null,
      "outputs": []
    }
  ]
}